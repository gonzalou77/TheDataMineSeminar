{
 "cells": [
  {
   "cell_type": "markdown",
   "id": "be02a957-7133-4d02-818e-fedeb3cecb05",
   "metadata": {},
   "source": [
    "# Project 6 -- Louis Gonzalez"
   ]
  },
  {
   "cell_type": "markdown",
   "id": "a1228853-dd19-4ab2-89e0-0394d7d72de3",
   "metadata": {
    "tags": []
   },
   "source": [
    "**Piazza Help:** Question @104\n",
    "\n",
    "- had to modify the test to reflect the increase in goals from the day before. please see the piazza\n",
    "    \n"
   ]
  },
  {
   "cell_type": "markdown",
   "id": "6180e742-8e39-4698-98ff-5b00c8cf8ea0",
   "metadata": {},
   "source": [
    "## Question 1"
   ]
  },
  {
   "cell_type": "code",
   "execution_count": 1,
   "id": "49445606-d363-41b4-b479-e319a9a84c01",
   "metadata": {},
   "outputs": [
    {
     "name": "stdout",
     "output_type": "stream",
     "text": [
      "============================= test session starts ==============================\n",
      "platform linux -- Python 3.10.7, pytest-7.1.2, pluggy-1.0.0\n",
      "rootdir: /home/x-gonza533/Project06\n",
      "plugins: anyio-3.6.1, dash-2.5.1, hypothesis-6.49.1, datafiles-2.0.1\n",
      "collected 4 items\n",
      "\n",
      "test_project06.py ....                                                   [100%]\n",
      "\n",
      "=============================== warnings summary ===============================\n",
      "test_project06.py::test_event_plotter\n",
      "  /usr/local/lib/python3.10/site-packages/kaleido/scopes/base.py:188: DeprecationWarning:\n",
      "  \n",
      "  setDaemon() is deprecated, set the daemon attribute instead\n",
      "\n",
      "test_project06.py::test_event_plotter\n",
      "  /usr/local/lib/python3.10/site-packages/plotly/io/_renderers.py:7: DeprecationWarning:\n",
      "  \n",
      "  The distutils package is deprecated and slated for removal in Python 3.12. Use setuptools or check PEP 632 for potential alternatives\n",
      "\n",
      "-- Docs: https://docs.pytest.org/en/stable/how-to/capture-warnings.html\n",
      "======================== 4 passed, 2 warnings in 10.33s ========================\n"
     ]
    }
   ],
   "source": [
    "%%bash\n",
    "\n",
    "cd ~/Project06\n",
    "python3 -m pytest "
   ]
  },
  {
   "cell_type": "markdown",
   "id": "a5272106-a6dc-4ac5-8098-72b60da9770b",
   "metadata": {},
   "source": [
    "Changed:\n",
    "    line 27: time_diff = (datetime_series.diff(-1).dt.total_seconds().abs().max()) / 60\n",
    "    \n",
    "To:\n",
    "    line 27: time_diff = (datetime_series.diff(-1).dt.total_seconds().abs().max()) / 3600"
   ]
  },
  {
   "cell_type": "markdown",
   "id": "fc601975-35ed-4680-a4e1-0273ee3cc047",
   "metadata": {},
   "source": [
    "## Question 2"
   ]
  },
  {
   "cell_type": "markdown",
   "id": "14dc22d4-ddc3-41cc-a91a-cb0025bc0c80",
   "metadata": {},
   "source": [
    "Changed:\n",
    "    def space_in_dir(directory: str) -> None: \n",
    "    \"\"\"\n",
    "    Given a directory, return the amount of space the files in the directory,\n",
    "    recursively, take up.\n",
    "    \"\"\"\n",
    "    root_directory = Path('.')\n",
    "    print(sum(f.stat().st_size for f in root_directory.glob('**/*') if f.is_file()))\n",
    "    \n",
    "To:\n",
    "    def space_in_dir(directory: str):\n",
    "    \"\"\"\n",
    "    Given a directory, return the amount of space the files in the directory,\n",
    "    recursively, take up.\n",
    "    \"\"\"\n",
    "    root_directory = Path(directory)\n",
    "    root_sum = (sum(f.stat().st_size for f in root_directory.glob('**/*') if f.is_file()))\n",
    "    return root_sum"
   ]
  },
  {
   "cell_type": "markdown",
   "id": "8e586edd-ff26-4ce2-8f6b-2424b26f2929",
   "metadata": {
    "tags": []
   },
   "source": [
    "## Question 3"
   ]
  },
  {
   "cell_type": "markdown",
   "id": "47c6229f-35f7-400c-8366-c442baa5cf47",
   "metadata": {},
   "source": [
    "Changed:\n",
    "    line 61:  bronze.write_image(f\"{os.getenv('HOME')}/silver.jpeg\")\n",
    "    \n",
    "To:\n",
    "    line 61:  bronze.write_image(f\"{os.getenv('HOME')}/bronze.jpeg\")"
   ]
  },
  {
   "cell_type": "markdown",
   "id": "da22f29c-d245-4d2b-9fc1-ca14cb6087d9",
   "metadata": {},
   "source": [
    "## Question 4"
   ]
  },
  {
   "cell_type": "markdown",
   "id": "0d552245-b4d6-474a-9cc9-fa7b8e674d55",
   "metadata": {},
   "source": [
    "Changed:\n",
    "    line 108:  total = int(g.text)\n",
    "    \n",
    "To:\n",
    "    line 108:  total += int(g.text)"
   ]
  },
  {
   "cell_type": "markdown",
   "id": "f76442d6-d02e-4f26-b9d6-c3183e1d6929",
   "metadata": {},
   "source": [
    "## Pledge\n",
    "\n",
    "By submitting this work I hereby pledge that this is my own, personal work. I've acknowledged in the designated place at the top of this file all sources that I used to complete said work, including but not limited to: online resources, books, and electronic communications. I've noted all collaboration with fellow students and/or TA's. I did not copy or plagiarize another's work.\n",
    "\n",
    "> As a Boilermaker pursuing academic excellence, I pledge to be honest and true in all that I do. Accountable together – We are Purdue."
   ]
  }
 ],
 "metadata": {
  "kernelspec": {
   "display_name": "f2022-s2023",
   "language": "python",
   "name": "f2022-s2023"
  },
  "language_info": {
   "codemirror_mode": {
    "name": "ipython",
    "version": 3
   },
   "file_extension": ".py",
   "mimetype": "text/x-python",
   "name": "python",
   "nbconvert_exporter": "python",
   "pygments_lexer": "ipython3",
   "version": "3.10.7"
  }
 },
 "nbformat": 4,
 "nbformat_minor": 5
}
