{
 "cells": [
  {
   "cell_type": "markdown",
   "id": "be02a957-7133-4d02-818e-fedeb3cecb05",
   "metadata": {},
   "source": [
    "# Project 1 -- Louis Gonzalez"
   ]
  },
  {
   "cell_type": "markdown",
   "id": "a1228853-dd19-4ab2-89e0-0394d7d72de3",
   "metadata": {},
   "source": [
    "No Collaboration or help from a TA.\n",
    "\n",
    "Various websites were used for debugging and links are commented in the codes below"
   ]
  },
  {
   "cell_type": "markdown",
   "id": "6180e742-8e39-4698-98ff-5b00c8cf8ea0",
   "metadata": {},
   "source": [
    "## Question 1"
   ]
  },
  {
   "cell_type": "markdown",
   "id": "81337a29-40cd-4b79-bfde-63baa964799a",
   "metadata": {},
   "source": [
    "For this course, projects will be solved using the Anvil computing cluster.\n",
    "\n",
    "Each cluster is a collection of nodes. Each node is an individual machine, with a processor and memory (RAM). Use the information on the provided webpages to calculate how many cores and how much memory is available in total for the Anvil \"sub-clusters\".\n",
    "\n",
    "Take a minute and figure out how many cores and how much memory is available on your own computer. If you do not have a computer of your own, work with a friend to see how many cores there are, and how much memory is available, on their computer."
   ]
  },
  {
   "cell_type": "markdown",
   "id": "22524324-79e3-4924-aa0e-410d77b483b8",
   "metadata": {},
   "source": [
    "# Answer\n",
    "The total amount of cores in the anvil sub-clusters is 134,144 cores and the total amount of memory in the anvil sub-clusters is 296,192 GB of memory.\n",
    "\n",
    "In my own computer, there is in total 16 GB of memory and two processing cores ( i7-7500U CPU @ 2.70GHz   2.90 GHz)"
   ]
  },
  {
   "cell_type": "markdown",
   "id": "b456e57c-4a12-464b-999a-ef2df5af80c1",
   "metadata": {},
   "source": []
  },
  {
   "cell_type": "markdown",
   "id": "fc601975-35ed-4680-a4e1-0273ee3cc047",
   "metadata": {},
   "source": [
    "## Question 2"
   ]
  },
  {
   "cell_type": "code",
   "execution_count": null,
   "id": "a16336a1-1ef0-41e8-bc7c-49387db27497",
   "metadata": {},
   "outputs": [],
   "source": [
    "import socket\n",
    "print(socket.gethostname())\n"
   ]
  },
  {
   "cell_type": "markdown",
   "id": "14dc22d4-ddc3-41cc-a91a-cb0025bc0c80",
   "metadata": {},
   "source": [
    "# Output\n",
    "The name of the node being run on Anvil is:\n",
    "a242.anvil.rcac.purdue.edu"
   ]
  },
  {
   "cell_type": "markdown",
   "id": "8e586edd-ff26-4ce2-8f6b-2424b26f2929",
   "metadata": {},
   "source": [
    "## Question 3"
   ]
  },
  {
   "cell_type": "markdown",
   "id": "257f1281-f03e-4277-8e74-0107fb8365e1",
   "metadata": {
    "tags": []
   },
   "source": [
    "\n",
    "In the upper right-hand corner of your notebook, you will see the current kernel for the notebook, f2022-s2023. If you click on this name you will have the option to swap kernels out — no need to do this yet, but it is good to know!\n",
    "\n",
    "Practice running the following examples.\n"
   ]
  },
  {
   "cell_type": "markdown",
   "id": "48df10ab-506d-4b65-8c0e-002c164ad872",
   "metadata": {},
   "source": [
    "# Python"
   ]
  },
  {
   "cell_type": "code",
   "execution_count": null,
   "id": "d0624b8e-f763-48d2-9ad8-a7d843bbfba3",
   "metadata": {},
   "outputs": [],
   "source": [
    "my_list = [1, 2, 3]\n",
    "print(f'My list is: {my_list}')"
   ]
  },
  {
   "cell_type": "markdown",
   "id": "ab4a7727-6b94-4580-afca-da9b138f0927",
   "metadata": {},
   "source": [
    "Output : My list is: [1, 2, 3]"
   ]
  },
  {
   "cell_type": "code",
   "execution_count": null,
   "id": "8b145ee3-5648-4216-9312-3e1c4b1517bf",
   "metadata": {},
   "outputs": [],
   "source": []
  },
  {
   "cell_type": "markdown",
   "id": "9b5aaad8-f982-4d13-b2ff-d4ba7912ebb0",
   "metadata": {},
   "source": [
    "## SQL"
   ]
  },
  {
   "cell_type": "code",
   "execution_count": null,
   "id": "315fd9fb-48db-44ba-a93a-298cd862e8c7",
   "metadata": {},
   "outputs": [],
   "source": [
    "%sql sqlite:////anvil/projects/tdm/data/movies_and_tv/imdb.db"
   ]
  },
  {
   "cell_type": "code",
   "execution_count": null,
   "id": "ab4211cf-736e-420d-b57e-f55d851c41ee",
   "metadata": {},
   "outputs": [],
   "source": [
    "%%sql\n",
    "\n",
    "SELECT * FROM titles LIMIT 5;"
   ]
  },
  {
   "cell_type": "markdown",
   "id": "1cd040fc-90ac-4ccf-89d9-387ac7d1af4a",
   "metadata": {},
   "source": [
    "Output:  \n",
    "\n",
    "title_id \ttype \tprimary_title \toriginal_title \tis_adult \tpremiered \tended \truntime_minutes \tgenres\n",
    "tt0000001 \tshort \tCarmencita \tCarmencita \t0 \t1894 \tNone \t1 \tDocumentary,Short\n",
    "tt0000002 \tshort \tLe clown et ses chiens \tLe clown et ses chiens \t0 \t1892 \tNone \t5 \tAnimation,Short\n",
    "tt0000003 \tshort \tPauvre Pierrot \tPauvre Pierrot \t0 \t1892 \tNone \t4 \tAnimation,Comedy,Romance\n",
    "tt0000004 \tshort \tUn bon bock \tUn bon bock \t0 \t1892 \tNone \t12 \tAnimation,Short\n",
    "tt0000005 \tshort \tBlacksmith Scene \tBlacksmith Scene \t0 \t1893 \tNone \t1 \tComedy,Sho"
   ]
  },
  {
   "cell_type": "markdown",
   "id": "47c6229f-35f7-400c-8366-c442baa5cf47",
   "metadata": {},
   "source": []
  },
  {
   "cell_type": "markdown",
   "id": "1a4a7c0e-9081-4e13-8936-6d95c6093e71",
   "metadata": {},
   "source": [
    "## Bash"
   ]
  },
  {
   "cell_type": "code",
   "execution_count": null,
   "id": "87226e80-e2bf-49ee-a441-789f4dbcace6",
   "metadata": {},
   "outputs": [],
   "source": [
    "%%bash\n",
    "\n",
    "awk -F, '{miles=miles+$19}END{print \"Miles: \" miles, \"\\nKilometers:\" miles*1.609344}' /anvil/projects/tdm/data/flights/subset/1991.csv"
   ]
  },
  {
   "cell_type": "markdown",
   "id": "2759c0e8-397a-450c-ab00-ad0349196fa0",
   "metadata": {},
   "source": [
    "Output:\n",
    "Miles: 3263678656 \n",
    "Kilometers:5.25238e+09"
   ]
  },
  {
   "cell_type": "markdown",
   "id": "da22f29c-d245-4d2b-9fc1-ca14cb6087d9",
   "metadata": {},
   "source": [
    "## Question 4"
   ]
  },
  {
   "cell_type": "markdown",
   "id": "64a98014-3486-43fc-af84-ca4ed821a58d",
   "metadata": {},
   "source": [
    "# Answer\n",
    "There are 13 markdown cells and 4 code cells"
   ]
  },
  {
   "cell_type": "markdown",
   "id": "88c9cdac-3e92-498f-83fa-e089bfc44ac8",
   "metadata": {},
   "source": [
    "## Question 5"
   ]
  },
  {
   "cell_type": "markdown",
   "id": "bd547553-1fcb-4f9d-a01b-2cb37c0e5091",
   "metadata": {},
   "source": [
    "# A list of items I wish were taught in the datamine from most interested (Top) to least (Bottom) interested:\n",
    "\n",
    "- Julia programming language\n",
    "- Feature Engineering\n",
    "- ML Modeling\n",
    "- Dynamic Scripting\n",
    "- Object Oriented programming\n",
    "- Interviewing\n",
    "- Coding Interviews\n",
    "- Building Data Science resumes\n"
   ]
  },
  {
   "cell_type": "markdown",
   "id": "e2a0c7de-bc7c-44b6-a87c-642e8b700298",
   "metadata": {},
   "source": [
    "## Question 6"
   ]
  },
  {
   "cell_type": "markdown",
   "id": "40882273-c5ae-4b35-9139-c7b9374c09a0",
   "metadata": {},
   "source": [
    "# Python function and script"
   ]
  },
  {
   "cell_type": "code",
   "execution_count": null,
   "id": "db4bebd2-8d9d-4d32-baec-ac03e60a2ccc",
   "metadata": {},
   "outputs": [],
   "source": [
    "\"\"\"\n",
    "Source for matplotlib plotting: https://matplotlib.org/stable/tutorials/introductory/pyplot.html\n",
    "Source for matplotlib arguments: https://matplotlib.org/stable/api/_as_gen/matplotlib.axes.Axes.set_ylim.html#matplotlib.axes.Axes.set_ylim\n",
    "Source for pandas data handling: https://pandas.pydata.org/docs/getting_started/intro_tutorials/03_subset_data.html\n",
    "Source for python counter: https://realpython.com/python-counter/\n",
    "\"\"\"\n",
    "\n",
    "\n",
    "#####Importing libraries####\n",
    "import pandas as pd\n",
    "import matplotlib.pyplot as plt\n",
    "import math\n",
    "import sklearn as sk\n",
    "import numpy as np\n",
    "import csv\n",
    "############################\n",
    "\n",
    "#####Defining method for reading and cleaning dataframes with pandas#####\n",
    "def clean_df(file, thresh, samps): #thresh refers to theshold of dataframe length, file is either the file path or name of csv file, samps is the amount of samples to sample if DF length is > thresh\n",
    "    df = pd.read_csv(file)\n",
    "    df = df.dropna(axis = 1) #drops columns with nan values\n",
    "    if len(df) > thresh:\n",
    "        df = df.sample(n = samps, replace = False, random_state = 99) #if the length of DF is > thresh, the DF is samples without replacement for a smaller dataset to prevent system fault\n",
    "    return df\n",
    "#########################################################################\n",
    "file = \"/anvil/projects/tdm/data/flights/subset/1991.csv\"\n",
    "thresh = 5000\n",
    "samples = 20000\n",
    "\n",
    "Flight_data = clean_df(file, thresh, samples) #return clean data set\n",
    "\n",
    "\n",
    "#####For a given month (integer) this function will take a list of months and CRSElapsed times, and find elapsed times >= time threshold (ELT) for given month#####\n",
    "def month_arrivals(Months, CRSelts, Month_number, ELT): # months = list of months (integers), list of CRSelapsedTimes, Month_number = month as integer, ELT = threshold elapsed time\n",
    "    month = 0\n",
    "    ranges = list(range(len(CRSelts)))\n",
    "    for i in ranges:\n",
    "        if Months[i] == Month_number and CRSelts[i] >= ELT:\n",
    "            month += 1\n",
    "    return month\n",
    "###################################################################################################################################################################\n",
    "time_thresh = 200\n",
    "elapsed_times = list(Flight_data[\"CRSElapsedTime\"])\n",
    "month_list = list(Flight_data[\"Month\"])\n",
    "\n",
    "counts = [] #empty list for adding times > time_thresh\n",
    "month = list(range(1,13)) #list of months from 1-12\n",
    "\n",
    "#####For loop to quick iterate through months 1-12 (Jan-Dec) without the need for making separate variables\n",
    "for i in month:\n",
    "    counts.append(month_arrivals(month_list, elapsed_times, i, time_thresh))\n",
    "\n",
    "month_names = ['Jan', 'Feb', 'Mar', 'Apr', 'May', 'Jun', 'Jul', 'Aug', 'Sep', 'Oct', 'Nov', 'Dec'] #list of month names to be used for the x-axis of a bar graph\n",
    "\n",
    "###Visualizing data\n",
    "plt.bar(month_names, counts, align = 'center')\n",
    "plt.ylim(150, 200)\n",
    "plt.title('Counts of CRSElapsedTimes > 200')\n",
    "plt.ylabel('Counts')\n",
    "plt.xlabel('Month')\n",
    "\n"
   ]
  },
  {
   "cell_type": "code",
   "execution_count": null,
   "id": "dcc0bc5f-f33e-429d-8999-b45b5088ae3f",
   "metadata": {},
   "outputs": [],
   "source": [
    "# Analysis of Python Script"
   ]
  },
  {
   "cell_type": "markdown",
   "id": "68e98734-98bd-49ac-b054-bb6e08aa90d8",
   "metadata": {},
   "source": [
    "Python is an easy language to learn for general purposes. One issue is the extensive coding needed to do a simple analysis such as counting the amount of times a flight CRSElapsed time was greater than a defined threshold. "
   ]
  },
  {
   "cell_type": "markdown",
   "id": "3db1f20c-7ace-4d43-9adb-ff9cc19c0601",
   "metadata": {},
   "source": [
    "##R Function and Script"
   ]
  },
  {
   "cell_type": "code",
   "execution_count": null,
   "id": "ba198a5c-6488-4816-ac28-211d588c3c86",
   "metadata": {},
   "outputs": [],
   "source": [
    "%%R\n",
    "\n",
    "#Determine reading csv files in R: https://swcarpentry.github.io/r-novice-inflammation/11-supp-read-write-csv/\n",
    "#Removing nan containing columns: https://www.statology.org/remove-columns-with-na-in-r/\n",
    "#Creating a function in R: https://swcarpentry.github.io/r-novice-inflammation/02-func-R/\n",
    "#Building box plots: https://www.statmethods.net/graphs/boxplot.html\n",
    "#set seed: https://r-coder.com/set-seed-r/'\n",
    "#if statements : https://bookdown.org/ndphillips/YaRrr/using-if-then-statements-in-functions.html\n",
    "\n",
    "####Fuction that reads csv files and removes columns where all values are NAN####\n",
    "read_clean <- function(filename, thresh, samplesize) { #file name = name of csv file or directory of csv file, thresh = threshold of number of rows in data fram, samplesize = size of desired sample to pull from dataframe\n",
    "    file_data <- read.csv(filename) #read csv file\n",
    "    df <- data.frame(file_data) #convert read data into data frame\n",
    "    new_df <- df[ , colSums(is.na(df))==0] #remove columns where all values are nan\n",
    "    if (nrow(df) > thresh) { #if statement that samples the index of desired number of rows from data frame and forms a new sampled data frame with the sampled indices\n",
    "        sampled_rows <- sample(1:nrow(new_df), samplesize)\n",
    "        sampled_df <- new_df[sampled_rows, ]\n",
    "    }\n",
    "}\n",
    "#################################################################################\n",
    "\n",
    "file <- '/anvil/projects/tdm/data/flights/subset/1991.csv'\n",
    "threshold <- 1000\n",
    "samples <- 200\n",
    "set.seed(10)\n",
    "flights <- read_clean(file, threshold, samples)\n",
    "#sampled_flight_rows <- sample(1:nrow(flights), samples)\n",
    "#sampled_flights <- flights[sampled_flight_rows, ]"
   ]
  },
  {
   "cell_type": "code",
   "execution_count": 15,
   "id": "09d2e74e-11e2-4168-9c4d-f82636b9022b",
   "metadata": {},
   "outputs": [
    {
     "data": {
      "image/png": "[encoded data removed]"
     },
     "metadata": {},
     "output_type": "display_data"
    }
   ],
   "source": [
    "%%R\n",
    "head(flights) #checks on dataframe to make sure the proper columns are dropped\n",
    "\n",
    "#box plot for visualizing distribution and outliers of CRS elasped times for each month\n",
    "boxplot(CRSElapsedTime~Month, data = flights, main = \"CRSElapsedTimes\", xlab = \"Month\", ylab = \"Elapsed Time\", ylim = c(0 , 480)) \n"
   ]
  },
  {
   "cell_type": "markdown",
   "id": "c5e6257a-d1d3-4cb7-894f-641a3a97cade",
   "metadata": {},
   "source": [
    "# Analysis of R"
   ]
  },
  {
   "cell_type": "markdown",
   "id": "37d6a23d-f826-439e-9008-8456baddc66f",
   "metadata": {},
   "source": [
    "R has a slightly steeper learning curve than Python, however the language is specialized for datascience and statistical analysis of big data. With a fraction of lines compared to python, I was able to do the same but go even further and obtain a statistical plot of the same data interrogated in python. In this case, I did not have to load any libraries to build my functions or do any statistical analysis. R is also much faster at processing very large datasets compared to python."
   ]
  },
  {
   "cell_type": "markdown",
   "id": "1e4fc28f-c2eb-4b15-9205-d168115468f6",
   "metadata": {},
   "source": [
    "## Bash Function"
   ]
  },
  {
   "cell_type": "code",
   "execution_count": 20,
   "id": "48e0a649-f5c5-4cf1-8a05-39ac710c8993",
   "metadata": {},
   "outputs": [
    {
     "name": "stdout",
     "output_type": "stream",
     "text": [
      "Miles: 3263678656 \n",
      "Yards:17232223303680\n"
     ]
    }
   ],
   "source": [
    "%%bash\n",
    "#conversion factor for feet was googled and is 5280 feet per mile\n",
    "awk -F, '{miles=miles+$19}END{print \"Miles: \" miles, \"\\nFeet:\" miles*5280}' /anvil/projects/tdm/data/flights/subset/1991.csv"
   ]
  },
  {
   "cell_type": "markdown",
   "id": "93f392d4-0921-4b6d-a060-bb80bbdde332",
   "metadata": {},
   "source": [
    "# Analysis of Bash Scripting"
   ]
  },
  {
   "cell_type": "markdown",
   "id": "0ce263dc-870a-4e38-b6dd-ee4e089fdce1",
   "metadata": {},
   "source": [
    "This one was definitely more difficult to work with. I changed the conversion from mile to kilometers to miles to yards"
   ]
  },
  {
   "cell_type": "markdown",
   "id": "f76442d6-d02e-4f26-b9d6-c3183e1d6929",
   "metadata": {},
   "source": [
    "## Pledge\n",
    "\n",
    "By submitting this work I hereby pledge that this is my own, personal work. I've acknowledged in the designated place at the top of this file all sources that I used to complete said work, including but not limited to: online resources, books, and electronic communications. I've noted all collaboration with fellow students and/or TA's. I did not copy or plagiarize another's work.\n",
    "\n",
    "> As a Boilermaker pursuing academic excellence, I pledge to be honest and true in all that I do. Accountable together – We are Purdue."
   ]
  }
 ],
 "metadata": {
  "kernelspec": {
   "display_name": "f2022-s2023-r",
   "language": "R",
   "name": "f2022-s2023-r"
  },
  "language_info": {
   "codemirror_mode": "r",
   "file_extension": ".r",
   "mimetype": "text/x-r-source",
   "name": "R",
   "pygments_lexer": "r",
   "version": "4.1.3"
  }
 },
 "nbformat": 4,
 "nbformat_minor": 5
}
