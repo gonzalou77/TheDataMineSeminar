{
 "cells": [
  {
   "cell_type": "markdown",
   "id": "be02a957-7133-4d02-818e-fedeb3cecb05",
   "metadata": {},
   "source": [
    "# Project 5 -- Louis Gonzalez"
   ]
  },
  {
   "cell_type": "markdown",
   "id": "a1228853-dd19-4ab2-89e0-0394d7d72de3",
   "metadata": {},
   "source": [
    "**Online websites used for problems:**\n",
    "- The following links were used for getting Q1 to work: https://docs.pytest.org/en/7.1.x/how-to/doctest.html\n",
    "- The following links were used for understanding Q2: https://www.geeksforgeeks.org/python-set-method/ , https://www.tutorialspoint.com/python3/dictionary_get.html , \n",
    "- The following links were used for finishing Q3: https://www.goodreads.com/author/show/1077326.J_K_Rowling ; I used the goodreads website to search an author and collect information, then I used the example code for Q1 for Project 04 to probe different records and select them as tests.\n",
    "- The following links were used for Q4: https://machinelearningmastery.com/a-gentle-introduction-to-unit-testing-in-python/\n",
    "- The following links were used for Q5: https://machinelearningmastery.com/a-gentle-introduction-to-unit-testing-in-python/\n",
    "- I didnt get to turn in project 4 but I did make my own scrape_images function while working on project 04 (Q5)\n",
    "**Collaborators:**\n",
    "- Kevin addressed this on a thread regarding the fuzzywuzzy library. It was uninstalled during an update. I removed fuzzywuzzy and fixed the code to work similar to fuzzywuzzy. Fuzzywuzzy was then reinstalled much later after finishing Q2.\n",
    "- There is a long private piazza thread with Dr. Ward, Kevin, and Darren on Q4."
   ]
  },
  {
   "cell_type": "markdown",
   "id": "6180e742-8e39-4698-98ff-5b00c8cf8ea0",
   "metadata": {},
   "source": [
    "## Question 1"
   ]
  },
  {
   "cell_type": "code",
   "execution_count": null,
   "id": "55c89b47-c8a5-4dea-ae28-e54b93203b65",
   "metadata": {},
   "outputs": [],
   "source": []
  },
  {
   "cell_type": "code",
   "execution_count": 5,
   "id": "49445606-d363-41b4-b479-e319a9a84c01",
   "metadata": {},
   "outputs": [
    {
     "name": "stdout",
     "output_type": "stream",
     "text": [
      "============================= test session starts ==============================\n",
      "platform linux -- Python 3.10.7, pytest-7.1.2, pluggy-1.0.0\n",
      "rootdir: /home/x-gonza533/Project05\n",
      "plugins: anyio-3.6.1, dash-2.5.1, hypothesis-6.49.1, datafiles-2.0.1\n",
      "collected 3 items\n",
      "\n",
      "goodreads.py .F.                                                         [100%]\n",
      "\n",
      "=================================== FAILURES ===================================\n",
      "_________________ [doctest] goodreads.get_books_by_author_name _________________\n",
      "128     Returns:\n",
      "129         A tuple of `dict` containing the works for the given author or matches for\n",
      "130             the given author name.\n",
      "131         \n",
      "132     Examples:\n",
      "133     \n",
      "134         >>> get_books_by_author_name('/anvil/projects/tdm/data/goodreads/goodreads_books.json', '/anvil/projects/tdm/data/goodreads/goodreads_book_authors.json', 'Brandon Sanderson')[0].get('title')\n",
      "135         'Edgedancer (The Stormlight Archive #2.5)'\n",
      "136         \n",
      "137         >>> get_books_by_author_name('/anvil/projects/tdm/data/goodreads/goodreads_books.json', '/anvil/projects/tdm/data/goodreads/goodreads_book_authors.json', 'Brandon Sanderson ')[2].get('title')\n",
      "UNEXPECTED EXCEPTION: IndexError('list index out of range')\n",
      "Traceback (most recent call last):\n",
      "  File \"/usr/local/lib/python3.10/doctest.py\", line 1350, in __run\n",
      "    exec(compile(example.source, filename, \"single\",\n",
      "  File \"<doctest goodreads.get_books_by_author_name[1]>\", line 1, in <module>\n",
      "IndexError: list index out of range\n",
      "/home/x-gonza533/Project05/goodreads.py:137: UnexpectedException\n",
      "=========================== short test summary info ============================\n",
      "FAILED goodreads.py::goodreads.get_books_by_author_name\n",
      "=================== 1 failed, 2 passed in 131.83s (0:02:11) ====================\n"
     ]
    },
    {
     "ename": "CalledProcessError",
     "evalue": "Command 'b'#initial pytest run\\npytest --doctest-modules goodreads.py\\n'' returned non-zero exit status 1.",
     "output_type": "error",
     "traceback": [
      "\u001b[0;31m---------------------------------------------------------------------------\u001b[0m",
      "\u001b[0;31mCalledProcessError\u001b[0m                        Traceback (most recent call last)",
      "Input \u001b[0;32mIn [5]\u001b[0m, in \u001b[0;36m<cell line: 1>\u001b[0;34m()\u001b[0m\n\u001b[0;32m----> 1\u001b[0m \u001b[43mget_ipython\u001b[49m\u001b[43m(\u001b[49m\u001b[43m)\u001b[49m\u001b[38;5;241;43m.\u001b[39;49m\u001b[43mrun_cell_magic\u001b[49m\u001b[43m(\u001b[49m\u001b[38;5;124;43m'\u001b[39;49m\u001b[38;5;124;43mbash\u001b[39;49m\u001b[38;5;124;43m'\u001b[39;49m\u001b[43m,\u001b[49m\u001b[43m \u001b[49m\u001b[38;5;124;43m'\u001b[39;49m\u001b[38;5;124;43m'\u001b[39;49m\u001b[43m,\u001b[49m\u001b[43m \u001b[49m\u001b[38;5;124;43m'\u001b[39;49m\u001b[38;5;124;43m#initial pytest run\u001b[39;49m\u001b[38;5;130;43;01m\\n\u001b[39;49;00m\u001b[38;5;124;43mpytest --doctest-modules goodreads.py\u001b[39;49m\u001b[38;5;130;43;01m\\n\u001b[39;49;00m\u001b[38;5;124;43m'\u001b[39;49m\u001b[43m)\u001b[49m\n",
      "File \u001b[0;32m/usr/local/lib/python3.10/site-packages/IPython/core/interactiveshell.py:2358\u001b[0m, in \u001b[0;36mInteractiveShell.run_cell_magic\u001b[0;34m(self, magic_name, line, cell)\u001b[0m\n\u001b[1;32m   2356\u001b[0m \u001b[38;5;28;01mwith\u001b[39;00m \u001b[38;5;28mself\u001b[39m\u001b[38;5;241m.\u001b[39mbuiltin_trap:\n\u001b[1;32m   2357\u001b[0m     args \u001b[38;5;241m=\u001b[39m (magic_arg_s, cell)\n\u001b[0;32m-> 2358\u001b[0m     result \u001b[38;5;241m=\u001b[39m \u001b[43mfn\u001b[49m\u001b[43m(\u001b[49m\u001b[38;5;241;43m*\u001b[39;49m\u001b[43margs\u001b[49m\u001b[43m,\u001b[49m\u001b[43m \u001b[49m\u001b[38;5;241;43m*\u001b[39;49m\u001b[38;5;241;43m*\u001b[39;49m\u001b[43mkwargs\u001b[49m\u001b[43m)\u001b[49m\n\u001b[1;32m   2359\u001b[0m \u001b[38;5;28;01mreturn\u001b[39;00m result\n",
      "File \u001b[0;32m/usr/local/lib/python3.10/site-packages/IPython/core/magics/script.py:153\u001b[0m, in \u001b[0;36mScriptMagics._make_script_magic.<locals>.named_script_magic\u001b[0;34m(line, cell)\u001b[0m\n\u001b[1;32m    151\u001b[0m \u001b[38;5;28;01melse\u001b[39;00m:\n\u001b[1;32m    152\u001b[0m     line \u001b[38;5;241m=\u001b[39m script\n\u001b[0;32m--> 153\u001b[0m \u001b[38;5;28;01mreturn\u001b[39;00m \u001b[38;5;28;43mself\u001b[39;49m\u001b[38;5;241;43m.\u001b[39;49m\u001b[43mshebang\u001b[49m\u001b[43m(\u001b[49m\u001b[43mline\u001b[49m\u001b[43m,\u001b[49m\u001b[43m \u001b[49m\u001b[43mcell\u001b[49m\u001b[43m)\u001b[49m\n",
      "File \u001b[0;32m/usr/local/lib/python3.10/site-packages/IPython/core/magics/script.py:305\u001b[0m, in \u001b[0;36mScriptMagics.shebang\u001b[0;34m(self, line, cell)\u001b[0m\n\u001b[1;32m    300\u001b[0m \u001b[38;5;28;01mif\u001b[39;00m args\u001b[38;5;241m.\u001b[39mraise_error \u001b[38;5;129;01mand\u001b[39;00m p\u001b[38;5;241m.\u001b[39mreturncode \u001b[38;5;241m!=\u001b[39m \u001b[38;5;241m0\u001b[39m:\n\u001b[1;32m    301\u001b[0m     \u001b[38;5;66;03m# If we get here and p.returncode is still None, we must have\u001b[39;00m\n\u001b[1;32m    302\u001b[0m     \u001b[38;5;66;03m# killed it but not yet seen its return code. We don't wait for it,\u001b[39;00m\n\u001b[1;32m    303\u001b[0m     \u001b[38;5;66;03m# in case it's stuck in uninterruptible sleep. -9 = SIGKILL\u001b[39;00m\n\u001b[1;32m    304\u001b[0m     rc \u001b[38;5;241m=\u001b[39m p\u001b[38;5;241m.\u001b[39mreturncode \u001b[38;5;129;01mor\u001b[39;00m \u001b[38;5;241m-\u001b[39m\u001b[38;5;241m9\u001b[39m\n\u001b[0;32m--> 305\u001b[0m     \u001b[38;5;28;01mraise\u001b[39;00m CalledProcessError(rc, cell)\n",
      "\u001b[0;31mCalledProcessError\u001b[0m: Command 'b'#initial pytest run\\npytest --doctest-modules goodreads.py\\n'' returned non-zero exit status 1."
     ]
    }
   ],
   "source": [
    "%%bash\n",
    "#initial pytest run\n",
    "pytest --doctest-modules goodreads.py"
   ]
  },
  {
   "cell_type": "code",
   "execution_count": null,
   "id": "edc9d896-1ab0-4ad3-8e12-29268e86663a",
   "metadata": {},
   "outputs": [],
   "source": [
    "%%bash\n",
    "#pytest run after removing \"from fuzzywuzzy import fuzz\"\n",
    "pytest --doctest-modules goodreads.py"
   ]
  },
  {
   "cell_type": "markdown",
   "id": "b456e57c-4a12-464b-999a-ef2df5af80c1",
   "metadata": {},
   "source": [
    "Markdown notes and sentences and analysis written here."
   ]
  },
  {
   "cell_type": "markdown",
   "id": "fc601975-35ed-4680-a4e1-0273ee3cc047",
   "metadata": {},
   "source": [
    "## Question 2"
   ]
  },
  {
   "cell_type": "code",
   "execution_count": 6,
   "id": "a16336a1-1ef0-41e8-bc7c-49387db27497",
   "metadata": {},
   "outputs": [
    {
     "name": "stdout",
     "output_type": "stream",
     "text": [
      "============================= test session starts ==============================\n",
      "platform linux -- Python 3.10.7, pytest-7.1.2, pluggy-1.0.0\n",
      "rootdir: /home/x-gonza533/Project05\n",
      "plugins: anyio-3.6.1, dash-2.5.1, hypothesis-6.49.1, datafiles-2.0.1\n",
      "collected 3 items\n",
      "\n",
      "goodreads.py ...                                                         [100%]\n",
      "\n",
      "======================== 3 passed in 131.13s (0:02:11) =========================\n"
     ]
    }
   ],
   "source": [
    "%%bash\n",
    "#fixed code to pass the failed test\n",
    "pytest --doctest-modules goodreads.py"
   ]
  },
  {
   "cell_type": "markdown",
   "id": "14dc22d4-ddc3-41cc-a91a-cb0025bc0c80",
   "metadata": {},
   "source": [
    "Markdown notes and sentences and analysis written here."
   ]
  },
  {
   "cell_type": "markdown",
   "id": "8e586edd-ff26-4ce2-8f6b-2424b26f2929",
   "metadata": {},
   "source": [
    "## Question 3"
   ]
  },
  {
   "cell_type": "code",
   "execution_count": 8,
   "id": "bbe0f40d-9655-4653-9ca8-886bdb61cb91",
   "metadata": {},
   "outputs": [
    {
     "name": "stdout",
     "output_type": "stream",
     "text": [
      "============================= test session starts ==============================\n",
      "platform linux -- Python 3.10.7, pytest-7.1.2, pluggy-1.0.0\n",
      "rootdir: /home/x-gonza533/Project05\n",
      "plugins: anyio-3.6.1, dash-2.5.1, hypothesis-6.49.1, datafiles-2.0.1\n",
      "collected 3 items\n",
      "\n",
      "goodreads.py ...                                                         [100%]\n",
      "\n",
      "======================== 3 passed in 454.67s (0:07:34) =========================\n"
     ]
    }
   ],
   "source": [
    "%%bash\n",
    "#After adding appropriate tests\n",
    "pytest --doctest-modules goodreads.py"
   ]
  },
  {
   "cell_type": "markdown",
   "id": "47c6229f-35f7-400c-8366-c442baa5cf47",
   "metadata": {},
   "source": [
    "Markdown notes and sentences and analysis written here."
   ]
  },
  {
   "cell_type": "markdown",
   "id": "da22f29c-d245-4d2b-9fc1-ca14cb6087d9",
   "metadata": {},
   "source": [
    "## Question 4"
   ]
  },
  {
   "cell_type": "code",
   "execution_count": 9,
   "id": "dbcb716e-c270-4866-8a6d-59f5f1979f99",
   "metadata": {},
   "outputs": [
    {
     "name": "stdout",
     "output_type": "stream",
     "text": [
      "============================= test session starts ==============================\n",
      "platform linux -- Python 3.10.7, pytest-7.1.2, pluggy-1.0.0\n",
      "rootdir: /home/x-gonza533/Project05\n",
      "plugins: anyio-3.6.1, dash-2.5.1, hypothesis-6.49.1, datafiles-2.0.1\n",
      "collected 1 item\n",
      "\n",
      "test_goodreads.py .                                                      [100%]\n",
      "\n",
      "============================== 1 passed in 0.03s ===============================\n"
     ]
    }
   ],
   "source": [
    "%%bash\n",
    "cd ~/Project05\n",
    "python3 -m pytest test_goodreads.py"
   ]
  },
  {
   "cell_type": "markdown",
   "id": "0d552245-b4d6-474a-9cc9-fa7b8e674d55",
   "metadata": {},
   "source": [
    "Markdown notes and sentences and analysis written here."
   ]
  },
  {
   "cell_type": "markdown",
   "id": "88c9cdac-3e92-498f-83fa-e089bfc44ac8",
   "metadata": {},
   "source": [
    "## Question 5"
   ]
  },
  {
   "cell_type": "code",
   "execution_count": 10,
   "id": "691d8889-e558-4fc1-8461-358a1ff97727",
   "metadata": {},
   "outputs": [
    {
     "name": "stdout",
     "output_type": "stream",
     "text": [
      "============================= test session starts ==============================\n",
      "platform linux -- Python 3.10.7, pytest-7.1.2, pluggy-1.0.0\n",
      "rootdir: /home/x-gonza533/Project05\n",
      "plugins: anyio-3.6.1, dash-2.5.1, hypothesis-6.49.1, datafiles-2.0.1\n",
      "collected 2 items\n",
      "\n",
      "test_goodreads.py ..                                                     [100%]\n",
      "\n",
      "============================== 2 passed in 0.20s ===============================\n"
     ]
    }
   ],
   "source": [
    "%%bash\n",
    "#After adding unit test\n",
    "cd ~/Project05\n",
    "pytest test_goodreads.py\n",
    "\n"
   ]
  },
  {
   "cell_type": "markdown",
   "id": "9fbf00fb-2418-460f-ae94-2a32b0c28952",
   "metadata": {},
   "source": [
    "Markdown notes and sentences and analysis written here."
   ]
  },
  {
   "cell_type": "markdown",
   "id": "f76442d6-d02e-4f26-b9d6-c3183e1d6929",
   "metadata": {},
   "source": [
    "## Pledge\n",
    "\n",
    "By submitting this work I hereby pledge that this is my own, personal work. I've acknowledged in the designated place at the top of this file all sources that I used to complete said work, including but not limited to: online resources, books, and electronic communications. I've noted all collaboration with fellow students and/or TA's. I did not copy or plagiarize another's work.\n",
    "\n",
    "> As a Boilermaker pursuing academic excellence, I pledge to be honest and true in all that I do. Accountable together – We are Purdue."
   ]
  }
 ],
 "metadata": {
  "kernelspec": {
   "display_name": "f2022-s2023",
   "language": "python",
   "name": "f2022-s2023"
  },
  "language_info": {
   "codemirror_mode": {
    "name": "ipython",
    "version": 3
   },
   "file_extension": ".py",
   "mimetype": "text/x-python",
   "name": "python",
   "nbconvert_exporter": "python",
   "pygments_lexer": "ipython3",
   "version": "3.10.7"
  }
 },
 "nbformat": 4,
 "nbformat_minor": 5
}
